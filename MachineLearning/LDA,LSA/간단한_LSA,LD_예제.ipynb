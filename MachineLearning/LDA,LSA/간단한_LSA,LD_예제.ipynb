{
  "nbformat": 4,
  "nbformat_minor": 0,
  "metadata": {
    "colab": {
      "name": "간단한 LSA,LD 예제.ipynb",
      "provenance": [],
      "collapsed_sections": []
    },
    "kernelspec": {
      "name": "python3",
      "display_name": "Python 3"
    },
    "language_info": {
      "name": "python"
    }
  },
  "cells": [
    {
      "cell_type": "markdown",
      "source": [
        "# LSA(잠재 의미 분석) 실습 예제 - NLP"
      ],
      "metadata": {
        "id": "mTHr7p7751cW"
      }
    },
    {
      "cell_type": "code",
      "execution_count": 1,
      "metadata": {
        "colab": {
          "base_uri": "https://localhost:8080/"
        },
        "id": "CJEJ5OxI5pi_",
        "outputId": "963278b5-e68b-455f-98ab-afdd41188d38"
      },
      "outputs": [
        {
          "output_type": "execute_result",
          "data": {
            "text/plain": [
              "11314"
            ]
          },
          "metadata": {},
          "execution_count": 1
        }
      ],
      "source": [
        "import pandas as pd\n",
        "from sklearn.datasets import fetch_20newsgroups\n",
        "\n",
        "dataset = fetch_20newsgroups(shuffle=True, random_state=1, remove=('headers', 'footers', 'quotes'))\n",
        "documents = dataset.data\n",
        "#총 문서 갯수\n",
        "len(documents)"
      ]
    },
    {
      "cell_type": "code",
      "source": [
        "#어떤 토픽의 문서가 있는지 확인\n",
        "dataset.target_names"
      ],
      "metadata": {
        "colab": {
          "base_uri": "https://localhost:8080/"
        },
        "id": "VO2WntVp5zUz",
        "outputId": "fa286f1b-ae98-45ba-c17d-174b1cce2d32"
      },
      "execution_count": 2,
      "outputs": [
        {
          "output_type": "execute_result",
          "data": {
            "text/plain": [
              "['alt.atheism',\n",
              " 'comp.graphics',\n",
              " 'comp.os.ms-windows.misc',\n",
              " 'comp.sys.ibm.pc.hardware',\n",
              " 'comp.sys.mac.hardware',\n",
              " 'comp.windows.x',\n",
              " 'misc.forsale',\n",
              " 'rec.autos',\n",
              " 'rec.motorcycles',\n",
              " 'rec.sport.baseball',\n",
              " 'rec.sport.hockey',\n",
              " 'sci.crypt',\n",
              " 'sci.electronics',\n",
              " 'sci.med',\n",
              " 'sci.space',\n",
              " 'soc.religion.christian',\n",
              " 'talk.politics.guns',\n",
              " 'talk.politics.mideast',\n",
              " 'talk.politics.misc',\n",
              " 'talk.religion.misc']"
            ]
          },
          "metadata": {},
          "execution_count": 2
        }
      ]
    },
    {
      "cell_type": "code",
      "source": [
        "#간단한 데이터 전처리\n",
        "news_df = pd.DataFrame({'document': documents})\n",
        "\n",
        "# 알파벳 이외의 문자 제거\n",
        "news_df['clean_doc'] = news_df['document'].str.replace(\"[^a-zA-Z#]\", \" \")\n",
        "\n",
        "# 길이가 3이하인 문자 제거\n",
        "news_df['clean_doc'] = news_df['clean_doc'].apply(lambda x: ' '.join([w for w in x.split() if len(w) > 3]))\n",
        "\n",
        "# 소문자로 바꾸기\n",
        "news_df['clean_doc'] = news_df['clean_doc'].apply(lambda x: x.lower())"
      ],
      "metadata": {
        "colab": {
          "base_uri": "https://localhost:8080/"
        },
        "id": "Uw4UEzOX6Fev",
        "outputId": "315f2c1d-a008-4454-ca3e-04484bac6880"
      },
      "execution_count": 3,
      "outputs": [
        {
          "output_type": "stream",
          "name": "stderr",
          "text": [
            "/usr/local/lib/python3.7/dist-packages/ipykernel_launcher.py:5: FutureWarning: The default value of regex will change from True to False in a future version.\n",
            "  \"\"\"\n"
          ]
        }
      ]
    },
    {
      "cell_type": "code",
      "source": [
        "news_df"
      ],
      "metadata": {
        "colab": {
          "base_uri": "https://localhost:8080/",
          "height": 423
        },
        "id": "8kbDRxBpi_o4",
        "outputId": "e6f441ec-6050-4f10-d051-507347c0a5d2"
      },
      "execution_count": 4,
      "outputs": [
        {
          "output_type": "execute_result",
          "data": {
            "text/html": [
              "\n",
              "  <div id=\"df-78167d35-f6bf-44f6-849e-9bb28550c940\">\n",
              "    <div class=\"colab-df-container\">\n",
              "      <div>\n",
              "<style scoped>\n",
              "    .dataframe tbody tr th:only-of-type {\n",
              "        vertical-align: middle;\n",
              "    }\n",
              "\n",
              "    .dataframe tbody tr th {\n",
              "        vertical-align: top;\n",
              "    }\n",
              "\n",
              "    .dataframe thead th {\n",
              "        text-align: right;\n",
              "    }\n",
              "</style>\n",
              "<table border=\"1\" class=\"dataframe\">\n",
              "  <thead>\n",
              "    <tr style=\"text-align: right;\">\n",
              "      <th></th>\n",
              "      <th>document</th>\n",
              "      <th>clean_doc</th>\n",
              "    </tr>\n",
              "  </thead>\n",
              "  <tbody>\n",
              "    <tr>\n",
              "      <th>0</th>\n",
              "      <td>Well i'm not sure about the story nad it did s...</td>\n",
              "      <td>well sure about story seem biased what disagre...</td>\n",
              "    </tr>\n",
              "    <tr>\n",
              "      <th>1</th>\n",
              "      <td>\\n\\n\\n\\n\\n\\n\\nYeah, do you expect people to re...</td>\n",
              "      <td>yeah expect people read actually accept hard a...</td>\n",
              "    </tr>\n",
              "    <tr>\n",
              "      <th>2</th>\n",
              "      <td>Although I realize that principle is not one o...</td>\n",
              "      <td>although realize that principle your strongest...</td>\n",
              "    </tr>\n",
              "    <tr>\n",
              "      <th>3</th>\n",
              "      <td>Notwithstanding all the legitimate fuss about ...</td>\n",
              "      <td>notwithstanding legitimate fuss about this pro...</td>\n",
              "    </tr>\n",
              "    <tr>\n",
              "      <th>4</th>\n",
              "      <td>Well, I will have to change the scoring on my ...</td>\n",
              "      <td>well will have change scoring playoff pool unf...</td>\n",
              "    </tr>\n",
              "    <tr>\n",
              "      <th>...</th>\n",
              "      <td>...</td>\n",
              "      <td>...</td>\n",
              "    </tr>\n",
              "    <tr>\n",
              "      <th>11309</th>\n",
              "      <td>Danny Rubenstein, an Israeli journalist, will ...</td>\n",
              "      <td>danny rubenstein israeli journalist will speak...</td>\n",
              "    </tr>\n",
              "    <tr>\n",
              "      <th>11310</th>\n",
              "      <td>\\n</td>\n",
              "      <td></td>\n",
              "    </tr>\n",
              "    <tr>\n",
              "      <th>11311</th>\n",
              "      <td>\\nI agree.  Home runs off Clemens are always m...</td>\n",
              "      <td>agree home runs clemens always memorable kinda...</td>\n",
              "    </tr>\n",
              "    <tr>\n",
              "      <th>11312</th>\n",
              "      <td>I used HP DeskJet with Orange Micros Grappler ...</td>\n",
              "      <td>used deskjet with orange micros grappler syste...</td>\n",
              "    </tr>\n",
              "    <tr>\n",
              "      <th>11313</th>\n",
              "      <td>^^^^^^\\n...</td>\n",
              "      <td>argument with murphy scared hell when came las...</td>\n",
              "    </tr>\n",
              "  </tbody>\n",
              "</table>\n",
              "<p>11314 rows × 2 columns</p>\n",
              "</div>\n",
              "      <button class=\"colab-df-convert\" onclick=\"convertToInteractive('df-78167d35-f6bf-44f6-849e-9bb28550c940')\"\n",
              "              title=\"Convert this dataframe to an interactive table.\"\n",
              "              style=\"display:none;\">\n",
              "        \n",
              "  <svg xmlns=\"http://www.w3.org/2000/svg\" height=\"24px\"viewBox=\"0 0 24 24\"\n",
              "       width=\"24px\">\n",
              "    <path d=\"M0 0h24v24H0V0z\" fill=\"none\"/>\n",
              "    <path d=\"M18.56 5.44l.94 2.06.94-2.06 2.06-.94-2.06-.94-.94-2.06-.94 2.06-2.06.94zm-11 1L8.5 8.5l.94-2.06 2.06-.94-2.06-.94L8.5 2.5l-.94 2.06-2.06.94zm10 10l.94 2.06.94-2.06 2.06-.94-2.06-.94-.94-2.06-.94 2.06-2.06.94z\"/><path d=\"M17.41 7.96l-1.37-1.37c-.4-.4-.92-.59-1.43-.59-.52 0-1.04.2-1.43.59L10.3 9.45l-7.72 7.72c-.78.78-.78 2.05 0 2.83L4 21.41c.39.39.9.59 1.41.59.51 0 1.02-.2 1.41-.59l7.78-7.78 2.81-2.81c.8-.78.8-2.07 0-2.86zM5.41 20L4 18.59l7.72-7.72 1.47 1.35L5.41 20z\"/>\n",
              "  </svg>\n",
              "      </button>\n",
              "      \n",
              "  <style>\n",
              "    .colab-df-container {\n",
              "      display:flex;\n",
              "      flex-wrap:wrap;\n",
              "      gap: 12px;\n",
              "    }\n",
              "\n",
              "    .colab-df-convert {\n",
              "      background-color: #E8F0FE;\n",
              "      border: none;\n",
              "      border-radius: 50%;\n",
              "      cursor: pointer;\n",
              "      display: none;\n",
              "      fill: #1967D2;\n",
              "      height: 32px;\n",
              "      padding: 0 0 0 0;\n",
              "      width: 32px;\n",
              "    }\n",
              "\n",
              "    .colab-df-convert:hover {\n",
              "      background-color: #E2EBFA;\n",
              "      box-shadow: 0px 1px 2px rgba(60, 64, 67, 0.3), 0px 1px 3px 1px rgba(60, 64, 67, 0.15);\n",
              "      fill: #174EA6;\n",
              "    }\n",
              "\n",
              "    [theme=dark] .colab-df-convert {\n",
              "      background-color: #3B4455;\n",
              "      fill: #D2E3FC;\n",
              "    }\n",
              "\n",
              "    [theme=dark] .colab-df-convert:hover {\n",
              "      background-color: #434B5C;\n",
              "      box-shadow: 0px 1px 3px 1px rgba(0, 0, 0, 0.15);\n",
              "      filter: drop-shadow(0px 1px 2px rgba(0, 0, 0, 0.3));\n",
              "      fill: #FFFFFF;\n",
              "    }\n",
              "  </style>\n",
              "\n",
              "      <script>\n",
              "        const buttonEl =\n",
              "          document.querySelector('#df-78167d35-f6bf-44f6-849e-9bb28550c940 button.colab-df-convert');\n",
              "        buttonEl.style.display =\n",
              "          google.colab.kernel.accessAllowed ? 'block' : 'none';\n",
              "\n",
              "        async function convertToInteractive(key) {\n",
              "          const element = document.querySelector('#df-78167d35-f6bf-44f6-849e-9bb28550c940');\n",
              "          const dataTable =\n",
              "            await google.colab.kernel.invokeFunction('convertToInteractive',\n",
              "                                                     [key], {});\n",
              "          if (!dataTable) return;\n",
              "\n",
              "          const docLinkHtml = 'Like what you see? Visit the ' +\n",
              "            '<a target=\"_blank\" href=https://colab.research.google.com/notebooks/data_table.ipynb>data table notebook</a>'\n",
              "            + ' to learn more about interactive tables.';\n",
              "          element.innerHTML = '';\n",
              "          dataTable['output_type'] = 'display_data';\n",
              "          await google.colab.output.renderOutput(dataTable, element);\n",
              "          const docLink = document.createElement('div');\n",
              "          docLink.innerHTML = docLinkHtml;\n",
              "          element.appendChild(docLink);\n",
              "        }\n",
              "      </script>\n",
              "    </div>\n",
              "  </div>\n",
              "  "
            ],
            "text/plain": [
              "                                                document                                          clean_doc\n",
              "0      Well i'm not sure about the story nad it did s...  well sure about story seem biased what disagre...\n",
              "1      \\n\\n\\n\\n\\n\\n\\nYeah, do you expect people to re...  yeah expect people read actually accept hard a...\n",
              "2      Although I realize that principle is not one o...  although realize that principle your strongest...\n",
              "3      Notwithstanding all the legitimate fuss about ...  notwithstanding legitimate fuss about this pro...\n",
              "4      Well, I will have to change the scoring on my ...  well will have change scoring playoff pool unf...\n",
              "...                                                  ...                                                ...\n",
              "11309  Danny Rubenstein, an Israeli journalist, will ...  danny rubenstein israeli journalist will speak...\n",
              "11310                                                 \\n                                                   \n",
              "11311  \\nI agree.  Home runs off Clemens are always m...  agree home runs clemens always memorable kinda...\n",
              "11312  I used HP DeskJet with Orange Micros Grappler ...  used deskjet with orange micros grappler syste...\n",
              "11313                                        ^^^^^^\\n...  argument with murphy scared hell when came las...\n",
              "\n",
              "[11314 rows x 2 columns]"
            ]
          },
          "metadata": {},
          "execution_count": 4
        }
      ]
    },
    {
      "cell_type": "code",
      "source": [
        "# 문서 TF-IDF 벡터화(1000개의 문서만)\n",
        "from sklearn.feature_extraction.text import TfidfVectorizer\n",
        "\n",
        "vectorizer = TfidfVectorizer(stop_words='english', \n",
        "max_features= 1000, # 1,000개의 단어만 추출\n",
        "max_df = 0.5, \n",
        "smooth_idf=True)\n",
        "\n",
        "X = vectorizer.fit_transform(news_df['clean_doc'])\n",
        "\n",
        "X.shape # DTM의 행렬 크기 반환"
      ],
      "metadata": {
        "colab": {
          "base_uri": "https://localhost:8080/"
        },
        "id": "Yleb6c886KFN",
        "outputId": "de280991-ec8d-4145-b9bc-1f9b371956d3"
      },
      "execution_count": 5,
      "outputs": [
        {
          "output_type": "execute_result",
          "data": {
            "text/plain": [
              "(11314, 1000)"
            ]
          },
          "metadata": {},
          "execution_count": 5
        }
      ]
    },
    {
      "cell_type": "code",
      "source": [
        "X"
      ],
      "metadata": {
        "colab": {
          "base_uri": "https://localhost:8080/"
        },
        "id": "W3Zru2kKjE0F",
        "outputId": "da30095f-d016-4671-bf23-592bfce22585"
      },
      "execution_count": 6,
      "outputs": [
        {
          "output_type": "execute_result",
          "data": {
            "text/plain": [
              "<11314x1000 sparse matrix of type '<class 'numpy.float64'>'\n",
              "\twith 257724 stored elements in Compressed Sparse Row format>"
            ]
          },
          "metadata": {},
          "execution_count": 6
        }
      ]
    },
    {
      "cell_type": "code",
      "source": [
        "# 뉴스 토픽이 20개!-> Truncated SVD 실행시, 상위 20개의 특이값만 사용\n",
        "from sklearn.decomposition import TruncatedSVD\n",
        "\n",
        "# SVD represent documents and terms in vectors \n",
        "svd_model = TruncatedSVD(n_components=20, algorithm='randomized', n_iter=100, random_state=122)\n",
        "\n",
        "svd_model.fit(X)\n",
        "\n",
        "svd_model.components_.shape"
      ],
      "metadata": {
        "colab": {
          "base_uri": "https://localhost:8080/"
        },
        "id": "M09F_Sna6PWZ",
        "outputId": "3c62c53e-6a66-479e-dda1-3f57849a4ae1"
      },
      "execution_count": 7,
      "outputs": [
        {
          "output_type": "execute_result",
          "data": {
            "text/plain": [
              "(20, 1000)"
            ]
          },
          "metadata": {},
          "execution_count": 7
        }
      ]
    },
    {
      "cell_type": "code",
      "source": [
        "#상위 20개 특이값 확인\n",
        "svd_model.singular_values_"
      ],
      "metadata": {
        "colab": {
          "base_uri": "https://localhost:8080/"
        },
        "id": "E6tzmvsQ6eAt",
        "outputId": "66bf4261-5482-432b-c350-e4afa445cee0"
      },
      "execution_count": 8,
      "outputs": [
        {
          "output_type": "execute_result",
          "data": {
            "text/plain": [
              "array([17.15952833,  9.93882749,  8.17139855,  7.92032011,  7.62377374,\n",
              "        7.5257242 ,  7.25096862,  7.00623237,  6.88289372,  6.85602044,\n",
              "        6.68476301,  6.56045782,  6.52895929,  6.42222944,  6.33939436,\n",
              "        6.21686249,  6.17477882,  6.09487639,  6.00247117,  5.90654237])"
            ]
          },
          "metadata": {},
          "execution_count": 8
        }
      ]
    },
    {
      "cell_type": "code",
      "source": [
        "#1000개의 단어 피처 값 받아오기\n",
        "terms = vectorizer.get_feature_names()\n",
        "len(terms)"
      ],
      "metadata": {
        "colab": {
          "base_uri": "https://localhost:8080/"
        },
        "id": "oIoJIA5E6jf-",
        "outputId": "20896dd4-5dc8-473f-a108-d4e3db8d89aa"
      },
      "execution_count": 9,
      "outputs": [
        {
          "output_type": "stream",
          "name": "stderr",
          "text": [
            "/usr/local/lib/python3.7/dist-packages/sklearn/utils/deprecation.py:87: FutureWarning: Function get_feature_names is deprecated; get_feature_names is deprecated in 1.0 and will be removed in 1.2. Please use get_feature_names_out instead.\n",
            "  warnings.warn(msg, category=FutureWarning)\n"
          ]
        },
        {
          "output_type": "execute_result",
          "data": {
            "text/plain": [
              "1000"
            ]
          },
          "metadata": {},
          "execution_count": 9
        }
      ]
    },
    {
      "cell_type": "code",
      "source": [
        "#주요 단어 확인\n",
        "n = 8\n",
        "components = svd_model.components_\n",
        "for index, topic in enumerate(components):\n",
        "    print('Topic %d: '%(index + 1), [terms[i] for i in topic.argsort()[: -n - 1: -1]])"
      ],
      "metadata": {
        "colab": {
          "base_uri": "https://localhost:8080/"
        },
        "id": "L-oaGJrm7EUh",
        "outputId": "61c02762-1c08-4911-84da-31ee2a154f4b"
      },
      "execution_count": 10,
      "outputs": [
        {
          "output_type": "stream",
          "name": "stdout",
          "text": [
            "Topic 1:  ['just', 'like', 'know', 'people', 'think', 'does', 'good', 'time']\n",
            "Topic 2:  ['thanks', 'windows', 'card', 'drive', 'mail', 'file', 'advance', 'files']\n",
            "Topic 3:  ['game', 'team', 'year', 'games', 'drive', 'season', 'good', 'players']\n",
            "Topic 4:  ['drive', 'scsi', 'disk', 'hard', 'problem', 'drives', 'just', 'card']\n",
            "Topic 5:  ['drive', 'know', 'thanks', 'does', 'just', 'scsi', 'drives', 'hard']\n",
            "Topic 6:  ['just', 'like', 'windows', 'know', 'does', 'window', 'file', 'think']\n",
            "Topic 7:  ['just', 'like', 'mail', 'bike', 'thanks', 'chip', 'space', 'email']\n",
            "Topic 8:  ['does', 'know', 'chip', 'like', 'card', 'clipper', 'encryption', 'government']\n",
            "Topic 9:  ['like', 'card', 'sale', 'video', 'offer', 'jesus', 'good', 'price']\n",
            "Topic 10:  ['like', 'drive', 'file', 'files', 'sounds', 'program', 'window', 'space']\n",
            "Topic 11:  ['people', 'like', 'thanks', 'card', 'government', 'windows', 'right', 'think']\n",
            "Topic 12:  ['think', 'good', 'thanks', 'need', 'chip', 'know', 'really', 'bike']\n",
            "Topic 13:  ['think', 'does', 'just', 'mail', 'like', 'game', 'file', 'chip']\n",
            "Topic 14:  ['know', 'good', 'people', 'windows', 'file', 'sale', 'files', 'price']\n",
            "Topic 15:  ['space', 'know', 'think', 'nasa', 'card', 'year', 'shuttle', 'article']\n",
            "Topic 16:  ['does', 'israel', 'think', 'right', 'israeli', 'sale', 'jews', 'window']\n",
            "Topic 17:  ['good', 'space', 'card', 'does', 'thanks', 'year', 'like', 'nasa']\n",
            "Topic 18:  ['people', 'does', 'window', 'problem', 'space', 'using', 'work', 'server']\n",
            "Topic 19:  ['right', 'bike', 'time', 'windows', 'space', 'does', 'file', 'thanks']\n",
            "Topic 20:  ['file', 'problem', 'files', 'need', 'time', 'card', 'game', 'people']\n"
          ]
        }
      ]
    },
    {
      "cell_type": "markdown",
      "source": [
        "### LDA(잠재 의미 분석) - sklearn 이용"
      ],
      "metadata": {
        "id": "WKf2kJM6AH8p"
      }
    },
    {
      "cell_type": "code",
      "source": [
        "from sklearn.decomposition import LatentDirichletAllocation\n",
        "\n",
        "lda_model = LatentDirichletAllocation(n_components=10,learning_method='online',random_state=777,max_iter=1)\n",
        "lda_top = lda_model.fit_transform(X)\n",
        "\n",
        "print(lda_model.components_)\n",
        "print(lda_model.components_.shape) "
      ],
      "metadata": {
        "id": "8TGI5tYq7gZv",
        "colab": {
          "base_uri": "https://localhost:8080/"
        },
        "outputId": "6c445d58-bcea-4c5c-a1ac-a58cf0dcd97d"
      },
      "execution_count": 11,
      "outputs": [
        {
          "output_type": "stream",
          "name": "stdout",
          "text": [
            "[[ 1.63298459  7.2900724   8.54896182 ...  7.49193635  0.14374901\n",
            "   1.59009138]\n",
            " [ 0.2896584   0.4117951   0.10113168 ...  0.67965637  0.10694658\n",
            "   0.10144253]\n",
            " [ 4.28469739 38.81395323  4.73014492 ...  6.48742032  0.26542125\n",
            "   0.1500921 ]\n",
            " ...\n",
            " [ 0.10114017  0.12831726  0.10621085 ...  0.10549643  0.10103415\n",
            "   0.12082447]\n",
            " [ 0.10124113  0.10107427  0.1011614  ...  0.10302748  0.18381415\n",
            "   0.10150428]\n",
            " [12.83266142 35.67976441 17.33997449 ... 96.14763995 27.25201553\n",
            "  28.27229401]]\n",
            "(10, 1000)\n"
          ]
        }
      ]
    },
    {
      "cell_type": "code",
      "source": [
        "# 단어 집합. 1,000개의 단어가 저장됨.\n",
        "terms = vectorizer.get_feature_names()\n",
        "\n",
        "def get_topics(components, feature_names, n=5):\n",
        "    for idx, topic in enumerate(components):\n",
        "        print(\"Topic %d:\" % (idx+1), [(feature_names[i], topic[i].round(2)) for i in topic.argsort()[:-n - 1:-1]])\n",
        "\n",
        "get_topics(lda_model.components_,terms)"
      ],
      "metadata": {
        "colab": {
          "base_uri": "https://localhost:8080/"
        },
        "id": "rSYAY5KkAIxy",
        "outputId": "6539eb32-1617-47ae-b6f7-e2090b7ba4f7"
      },
      "execution_count": 12,
      "outputs": [
        {
          "output_type": "stream",
          "name": "stdout",
          "text": [
            "Topic 1: [('jesus', 75.48), ('people', 57.01), ('bible', 49.68), ('christian', 47.54), ('christians', 46.57)]\n",
            "Topic 2: [('like', 24.43), ('engine', 21.81), ('speed', 20.07), ('just', 19.91), ('miles', 19.39)]\n",
            "Topic 3: [('windows', 132.29), ('thanks', 109.8), ('card', 105.85), ('drive', 105.1), ('know', 100.25)]\n",
            "Topic 4: [('sale', 60.64), ('thanks', 56.21), ('mail', 54.39), ('email', 46.98), ('offer', 42.54)]\n",
            "Topic 5: [('greek', 22.42), ('steve', 20.57), ('disease', 19.66), ('patients', 18.69), ('posting', 17.17)]\n",
            "Topic 6: [('satellite', 17.07), ('yeah', 16.11), ('david', 15.61), ('year', 15.17), ('article', 14.52)]\n",
            "Topic 7: [('games', 25.63), ('phone', 17.55), ('soon', 14.11), ('dave', 13.42), ('cars', 10.94)]\n",
            "Topic 8: [('israel', 60.09), ('israeli', 44.95), ('arab', 25.55), ('jews', 19.82), ('deleted', 18.89)]\n",
            "Topic 9: [('armenians', 31.64), ('armenian', 30.42), ('turkish', 27.17), ('turkey', 25.24), ('armenia', 15.84)]\n",
            "Topic 10: [('people', 175.72), ('just', 162.97), ('think', 160.29), ('like', 150.03), ('time', 130.95)]\n"
          ]
        },
        {
          "output_type": "stream",
          "name": "stderr",
          "text": [
            "/usr/local/lib/python3.7/dist-packages/sklearn/utils/deprecation.py:87: FutureWarning: Function get_feature_names is deprecated; get_feature_names is deprecated in 1.0 and will be removed in 1.2. Please use get_feature_names_out instead.\n",
            "  warnings.warn(msg, category=FutureWarning)\n"
          ]
        }
      ]
    }
  ]
}